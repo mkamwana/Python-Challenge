{
 "cells": [
  {
   "cell_type": "code",
   "execution_count": 44,
   "id": "103faf35",
   "metadata": {},
   "outputs": [],
   "source": [
    "import os\n",
    "import csv"
   ]
  },
  {
   "cell_type": "code",
   "execution_count": 58,
   "id": "8e3c2649",
   "metadata": {},
   "outputs": [
    {
     "ename": "SyntaxError",
     "evalue": "invalid syntax (2690665359.py, line 16)",
     "output_type": "error",
     "traceback": [
      "\u001b[1;36m  File \u001b[1;32m\"C:\\Users\\Maxwell Kamwana\\AppData\\Local\\Temp\\ipykernel_26068\\2690665359.py\"\u001b[1;36m, line \u001b[1;32m16\u001b[0m\n\u001b[1;33m    with open (poll_dic_reader) as csvfile\u001b[0m\n\u001b[1;37m                                          ^\u001b[0m\n\u001b[1;31mSyntaxError\u001b[0m\u001b[1;31m:\u001b[0m invalid syntax\n"
     ]
    }
   ],
   "source": [
    "#specify the file path for elections file\n",
    "poll_path=os.path.join(\"election_data.csv\")\n",
    "\n",
    "#open the csv file\n",
    "with open (poll_path) as csv_file:\n",
    "    poll_reader=csv.reader(csv_file, delimiter=\",\")\n",
    "    \n",
    "    #count no. of rows, less 1 (header row)\n",
    "    rows= len(list(poll_reader))\n",
    "    print(\"Total number of votes cast=\", rows)\n",
    "    \n",
    "#create a dictionary from csv\n",
    "with open (poll_path, encoding='utf-8-sig') as csvfile:\n",
    "    poll_dic_reader=csv.reader(csvfile)\n",
    "    \n",
    "    \n",
    "    #Define variables\n",
    "votes = 0\n",
    "winner_votes = 0\n",
    "total_candidates = 0\n",
    "greatest_votes = [\"\", 0]\n",
    "candidate_options = []\n",
    "candidate_votes = {}\n",
    "\n",
    "     # Determine the the votes \n",
    "for row in poll_dic_reader:\n",
    "    votes = votes + 1\n",
    "    total_candidates = row[2] \n",
    "    if row[3] not in candidate_options:\n",
    "        candidate_options.append(row[2])\n",
    "        candidate_votes[row[2]] = 1\n",
    "    else:\n",
    "        candidate_votes[row[2]] = candidate_votes[row[2]] + 1\n",
    "\n",
    "    # Getting the highest no. of votes\n",
    "    if (votes > winner_votes):\n",
    "        greatest_votes[1] = candidate_votes\n",
    "        greatest_votes[0] = row[2]\n",
    "        \n",
    "    print(\"Election Results\")\n",
    "    print(\"-------------------------\")\n",
    "    print(\"Total Votes \" + str(votes))\n",
    "    print(\"-------------------------\")"
   ]
  },
  {
   "cell_type": "code",
   "execution_count": null,
   "id": "cb028338",
   "metadata": {},
   "outputs": [],
   "source": []
  }
 ],
 "metadata": {
  "kernelspec": {
   "display_name": "Python 3 (ipykernel)",
   "language": "python",
   "name": "python3"
  },
  "language_info": {
   "codemirror_mode": {
    "name": "ipython",
    "version": 3
   },
   "file_extension": ".py",
   "mimetype": "text/x-python",
   "name": "python",
   "nbconvert_exporter": "python",
   "pygments_lexer": "ipython3",
   "version": "3.9.13"
  }
 },
 "nbformat": 4,
 "nbformat_minor": 5
}
