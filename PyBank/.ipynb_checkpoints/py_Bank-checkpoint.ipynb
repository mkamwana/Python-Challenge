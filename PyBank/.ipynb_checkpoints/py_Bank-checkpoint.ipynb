{
 "cells": [
  {
   "cell_type": "code",
   "execution_count": 65,
   "id": "4df9f08f",
   "metadata": {},
   "outputs": [],
   "source": [
    "import pandas as pd\n",
    "import csv\n",
    "import os"
   ]
  },
  {
   "cell_type": "code",
   "execution_count": 4,
   "id": "2ab3d07b",
   "metadata": {},
   "outputs": [
    {
     "data": {
      "text/html": [
       "<div>\n",
       "<style scoped>\n",
       "    .dataframe tbody tr th:only-of-type {\n",
       "        vertical-align: middle;\n",
       "    }\n",
       "\n",
       "    .dataframe tbody tr th {\n",
       "        vertical-align: top;\n",
       "    }\n",
       "\n",
       "    .dataframe thead th {\n",
       "        text-align: right;\n",
       "    }\n",
       "</style>\n",
       "<table border=\"1\" class=\"dataframe\">\n",
       "  <thead>\n",
       "    <tr style=\"text-align: right;\">\n",
       "      <th></th>\n",
       "      <th>Date</th>\n",
       "      <th>Profit/Losses</th>\n",
       "    </tr>\n",
       "  </thead>\n",
       "  <tbody>\n",
       "    <tr>\n",
       "      <th>0</th>\n",
       "      <td>Jan-10</td>\n",
       "      <td>1088983</td>\n",
       "    </tr>\n",
       "    <tr>\n",
       "      <th>1</th>\n",
       "      <td>Feb-10</td>\n",
       "      <td>-354534</td>\n",
       "    </tr>\n",
       "    <tr>\n",
       "      <th>2</th>\n",
       "      <td>Mar-10</td>\n",
       "      <td>276622</td>\n",
       "    </tr>\n",
       "    <tr>\n",
       "      <th>3</th>\n",
       "      <td>Apr-10</td>\n",
       "      <td>-728133</td>\n",
       "    </tr>\n",
       "    <tr>\n",
       "      <th>4</th>\n",
       "      <td>May-10</td>\n",
       "      <td>852993</td>\n",
       "    </tr>\n",
       "    <tr>\n",
       "      <th>...</th>\n",
       "      <td>...</td>\n",
       "      <td>...</td>\n",
       "    </tr>\n",
       "    <tr>\n",
       "      <th>81</th>\n",
       "      <td>Oct-16</td>\n",
       "      <td>-729004</td>\n",
       "    </tr>\n",
       "    <tr>\n",
       "      <th>82</th>\n",
       "      <td>Nov-16</td>\n",
       "      <td>-112209</td>\n",
       "    </tr>\n",
       "    <tr>\n",
       "      <th>83</th>\n",
       "      <td>Dec-16</td>\n",
       "      <td>516313</td>\n",
       "    </tr>\n",
       "    <tr>\n",
       "      <th>84</th>\n",
       "      <td>Jan-17</td>\n",
       "      <td>607208</td>\n",
       "    </tr>\n",
       "    <tr>\n",
       "      <th>85</th>\n",
       "      <td>Feb-17</td>\n",
       "      <td>382539</td>\n",
       "    </tr>\n",
       "  </tbody>\n",
       "</table>\n",
       "<p>86 rows × 2 columns</p>\n",
       "</div>"
      ],
      "text/plain": [
       "      Date  Profit/Losses\n",
       "0   Jan-10        1088983\n",
       "1   Feb-10        -354534\n",
       "2   Mar-10         276622\n",
       "3   Apr-10        -728133\n",
       "4   May-10         852993\n",
       "..     ...            ...\n",
       "81  Oct-16        -729004\n",
       "82  Nov-16        -112209\n",
       "83  Dec-16         516313\n",
       "84  Jan-17         607208\n",
       "85  Feb-17         382539\n",
       "\n",
       "[86 rows x 2 columns]"
      ]
     },
     "execution_count": 4,
     "metadata": {},
     "output_type": "execute_result"
    }
   ],
   "source": [
    "#Loading the data into a dataframe\n",
    "budget_data_path= \"Resources/budget_data.csv\"\n",
    "budget_df=pd.read_csv(budget_data_path)\n",
    "budget_df"
   ]
  },
  {
   "cell_type": "code",
   "execution_count": 8,
   "id": "4c88abe0",
   "metadata": {},
   "outputs": [
    {
     "name": "stdout",
     "output_type": "stream",
     "text": [
      "Total number of months= 86\n"
     ]
    }
   ],
   "source": [
    "#The total number of months included in the dataset\n",
    "months= len(budget_df.Date)\n",
    "print ('Total number of months=', months)"
   ]
  },
  {
   "cell_type": "code",
   "execution_count": 17,
   "id": "ab15a3de",
   "metadata": {},
   "outputs": [
    {
     "data": {
      "text/plain": [
       "Date             object\n",
       "Profit/Losses     int64\n",
       "dtype: object"
      ]
     },
     "execution_count": 17,
     "metadata": {},
     "output_type": "execute_result"
    }
   ],
   "source": [
    "budget_df.dtypes\n"
   ]
  },
  {
   "cell_type": "code",
   "execution_count": 66,
   "id": "1847fbcf",
   "metadata": {},
   "outputs": [
    {
     "name": "stdout",
     "output_type": "stream",
     "text": [
      "Total profits= 37,343,515\n",
      "Total losses= -14,779,317\n"
     ]
    }
   ],
   "source": [
    "#The net total amount of \"Profit/Losses\" over the entire period\n",
    "profits=[]\n",
    "losses=[]\n",
    "for _, row in budget_df.iterrows():\n",
    "    value = row['Profit/Losses']\n",
    "    if value<0:\n",
    "        losses.append(value)\n",
    "    else:\n",
    "        profits.append(value)\n",
    "        \n",
    "total_profit= sum(profits)\n",
    "total_losses= sum(losses)\n",
    "print (f'Total profits= {total_profit:,}')\n",
    "print(f'Total losses= {total_losses:,}')\n",
    "Total = total_profit+ total_losses"
   ]
  },
  {
   "cell_type": "code",
   "execution_count": 67,
   "id": "5a201a47",
   "metadata": {},
   "outputs": [
    {
     "name": "stdout",
     "output_type": "stream",
     "text": [
      "Total changes in Profits/losses= 737073\n",
      "Averange of Profits/Losses changes =8671.447058823529\n"
     ]
    }
   ],
   "source": [
    "#The changes in \"Profit/Losses\" over the entire period, and then the average of those changes\n",
    "changes=[]\n",
    "for i in range (2, (len(budget_df))):\n",
    "                change= (budget_df.iloc[i]['Profit/Losses'])-(budget_df.iloc[(i-1)]['Profit/Losses'])\n",
    "                changes.append(change)\n",
    "\n",
    "Total_changes= sum(changes)\n",
    "average_change= Total_changes/(months-1)\n",
    "\n",
    "print (f'Total changes in Profits/losses=', Total_changes)\n",
    "print (f'Averange of Profits/Losses changes ={Total_changes/(months-1)}')"
   ]
  },
  {
   "cell_type": "code",
   "execution_count": 64,
   "id": "b4be4eb0",
   "metadata": {},
   "outputs": [
    {
     "name": "stdout",
     "output_type": "stream",
     "text": [
      "Greatest increase in profits date: Mar-13 Amount:1,141,840\n",
      "Greatest increase in profits date: Nov-16 Amount:-1,194,133\n"
     ]
    }
   ],
   "source": [
    "#The greatest increase in profits (date and amount) over the entire period\n",
    "Greatest_increase= max(profits)\n",
    "GI_date=budget_df.loc[budget_df['Profit/Losses']== (Greatest_increase), 'Date'].iloc[0]\n",
    "print (f'Greatest increase in profits date: {GI_date} Amount:{max(profits):,}')\n",
    "#print (f'Greatest increase in profits {Greatest_change:,}')\n",
    "\n",
    "#The greatest decrease in profits (date and amount) over the entire period\n",
    "Greatest_decrease= max(losses)\n",
    "Gd_date=budget_df.loc[budget_df['Profit/Losses']== (Greatest_decrease), 'Date'].iloc[0]\n",
    "print (f'Greatest increase in profits date: {Gd_date} Amount:{min(losses):,}')"
   ]
  },
  {
   "cell_type": "code",
   "execution_count": 68,
   "id": "06432b0d",
   "metadata": {},
   "outputs": [],
   "source": [
    "#writting results into a txt file\n",
    "#define the file path\n",
    "filepath = os.path.join('.', 'Resources', 'PyBank_Results.txt')\n",
    "with open(filepath, \"w+\") as text_file:\n",
    "    print('Financial Analysis\\n', file=text_file)\n",
    "    print('-----------------\\n', file=text_file)\n",
    "    print(f'Total Months: {months}', file=text_file)\n",
    "    print(f'Total: ${Total}', file=text_file)\n",
    "    print(f'Average Change: ${average_change}', file=text_file)\n",
    "    print(f'Greatest Increase in Profits: {GI_date} Amount:{max(profits):,}', file=text_file)\n",
    "    print(f'Greatest Decrease in Profits: {Gd_date} Amount:{min(losses):,}', file=text_file)"
   ]
  },
  {
   "cell_type": "code",
   "execution_count": null,
   "id": "8ee55028",
   "metadata": {},
   "outputs": [],
   "source": []
  }
 ],
 "metadata": {
  "kernelspec": {
   "display_name": "Python 3 (ipykernel)",
   "language": "python",
   "name": "python3"
  },
  "language_info": {
   "codemirror_mode": {
    "name": "ipython",
    "version": 3
   },
   "file_extension": ".py",
   "mimetype": "text/x-python",
   "name": "python",
   "nbconvert_exporter": "python",
   "pygments_lexer": "ipython3",
   "version": "3.10.10"
  }
 },
 "nbformat": 4,
 "nbformat_minor": 5
}
